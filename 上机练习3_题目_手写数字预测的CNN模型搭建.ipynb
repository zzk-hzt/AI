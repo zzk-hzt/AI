{
 "cells": [
  {
   "cell_type": "markdown",
   "metadata": {
    "_cell_guid": "d4c08f48-fe23-4ddb-ac46-d97f05397514",
    "_uuid": "f2156d1dd26a1243e18512002e10872c5bd7271e"
   },
   "source": [
    "* **1. Introduction**\n",
    "* **2. Data preparation**\n",
    "    * 2.1 Load data\n",
    "    * 2.2 Check for null and missing values\n",
    "    * 2.3 Normalization\n",
    "    * 2.4 Reshape\n",
    "    * 2.5 Label encoding\n",
    "    * 2.6 Split training and valdiation set\n",
    "* **3. CNN**\n",
    "\n",
    "* **4. Evaluate the model**\n",
    "\n",
    "* **5. Prediction and submition**\n"
   ]
  },
  {
   "cell_type": "code",
   "execution_count": null,
   "metadata": {},
   "outputs": [],
   "source": []
  },
  {
   "cell_type": "markdown",
   "metadata": {
    "_cell_guid": "eb88b372-a6e5-40c8-a1c6-c03799165490",
    "_uuid": "e9aff3cf1bb8daa73bec67b970d12195677679f3"
   },
   "source": [
    "# 1. Introduction\n"
   ]
  },
  {
   "cell_type": "code",
   "execution_count": 1,
   "metadata": {
    "_cell_guid": "f67b9393-8ea1-4e23-b856-2ce149cfe421",
    "_execution_state": "idle",
    "_uuid": "72334cb006d02a4bcfc2a2fe622524eba824c6f8"
   },
   "outputs": [
    {
     "name": "stderr",
     "output_type": "stream",
     "text": [
      "Using TensorFlow backend.\n"
     ]
    }
   ],
   "source": [
    "import pandas as pd\n",
    "import numpy as np\n",
    "import matplotlib.pyplot as plt\n",
    "import matplotlib.image as mpimg\n",
    "import seaborn as sns\n",
    "%matplotlib inline\n",
    "\n",
    "\n",
    "from sklearn.model_selection import train_test_split\n",
    "from sklearn.metrics import confusion_matrix\n",
    "import itertools\n",
    "\n",
    "from keras.utils.np_utils import to_categorical # convert to one-hot-encoding\n",
    "from keras.models import Sequential\n",
    "from keras.layers import Dense, Dropout, Flatten, Conv2D, MaxPool2D\n",
    "from keras.optimizers import RMSprop\n",
    "from keras.preprocessing.image import ImageDataGenerator\n",
    "from keras.callbacks import ReduceLROnPlateau\n",
    "\n",
    "sns.set(style='white', context='notebook', palette='deep')"
   ]
  },
  {
   "cell_type": "markdown",
   "metadata": {
    "_cell_guid": "6d2fb3e6-ab71-4974-b5a2-4af1ebdb99f4",
    "_execution_state": "idle",
    "_uuid": "86061d98eccaa02efe0dab0fa3884e71fcf4c310"
   },
   "source": [
    "# 2. Data preparation\n",
    "## 2.1 Load data"
   ]
  },
  {
   "cell_type": "code",
   "execution_count": 2,
   "metadata": {
    "_cell_guid": "5e51d00e-62fd-4141-bf73-50ac4f2da7d0",
    "_execution_state": "idle",
    "_uuid": "84bbd5ab8d7895bd430d5ecfe2f7ddf77baa7b74"
   },
   "outputs": [],
   "source": [
    "# >>>>>填写<<<< 利用pandas的load_csv函数，读取我们的train 和 test数据集合 变量已经给出 >>>>>填写<<<< ######\n",
    "train = pd.read_csv(\"train.csv\")\n",
    "test = pd.read_csv(\"test.csv\")\n",
    "#####train validation test(完全独立的，与训练过程无关的)"
   ]
  },
  {
   "cell_type": "code",
   "execution_count": null,
   "metadata": {
    "_cell_guid": "86570a36-5c20-460a-9dfd-2070548532a7",
    "_execution_state": "idle",
    "_uuid": "1213b979d5ed3e0d13824d17d694c79d2ece92fa"
   },
   "outputs": [],
   "source": [
    "# >>>>>填写<<<< 利用pandas的header选择，将label列传递给Y_train >>>>>填写<<<< \n",
    "Y_train = train[\"label\"]\n",
    "\n",
    "# 因为train.csv中，第一列label在上述代码已经传递给Y_label，这里对于x_train 我们不需要训练集的第一列 #####\n",
    "X_train = train.drop(labels = [\"label\"],axis = 1) \n",
    "\n",
    "# 释放内存\n",
    "del train \n",
    "\n",
    "g = sns.countplot(Y_train)\n",
    "\n",
    "Y_train.value_counts()"
   ]
  },
  {
   "cell_type": "markdown",
   "metadata": {
    "_cell_guid": "5aea4062-1790-4987-b739-c4bebd79030f",
    "_uuid": "b7b1b1d36243c885e57374c8b60c5a7e10abe922"
   },
   "source": [
    "We have similar counts for the 10 digits."
   ]
  },
  {
   "cell_type": "markdown",
   "metadata": {
    "_cell_guid": "5b7d4b66-a140-4fcc-a889-bcef007c880a",
    "_uuid": "5d77934302869925c19128c77e247b3c8ca84d71"
   },
   "source": [
    "## 2.2 Check for null and missing values"
   ]
  },
  {
   "cell_type": "code",
   "execution_count": null,
   "metadata": {
    "_cell_guid": "ececaa00-2ae3-4d13-b631-438df085b030",
    "_execution_state": "idle",
    "_uuid": "cdf27c27e2a5b15e6d7bfc70de7a18c08f3feb7a"
   },
   "outputs": [],
   "source": [
    "# 检查训练数据是否有空值\n",
    "X_train.isnull().any().describe() "
   ]
  },
  {
   "cell_type": "code",
   "execution_count": null,
   "metadata": {
    "_cell_guid": "92572e80-8543-4e72-8767-5c9be8381b04",
    "_execution_state": "idle",
    "_uuid": "a0089bb7ec9aec76373db475399aea24699ae989"
   },
   "outputs": [],
   "source": [
    "# >>>>填写<<<< 检查训练数据是否有空值 >>>>填写<<<< ###\n",
    "test.isnull().any().describe()"
   ]
  },
  {
   "cell_type": "markdown",
   "metadata": {
    "_cell_guid": "09d04cae-4245-4659-85dd-ef48531da295",
    "_uuid": "c0bee59691c2df0b275c78e38e7f9907d02ac038"
   },
   "source": [
    "I check for corrupted images (missing values inside).\n",
    "\n",
    "There is no missing values in the train and test dataset. So we can safely go ahead."
   ]
  },
  {
   "cell_type": "markdown",
   "metadata": {
    "_cell_guid": "6812040d-80ad-43d2-a571-275f4f20067b",
    "_uuid": "2954681f25f0dcbe986e6914396cdbce61db591f"
   },
   "source": [
    "## 2.3 Normalization"
   ]
  },
  {
   "cell_type": "markdown",
   "metadata": {
    "_cell_guid": "159d5854-437a-4d0f-bc1e-fc3f7e43d178",
    "_uuid": "0ecf4b52510ab7957d0d4eb646c0aa1ba5986273"
   },
   "source": [
    "We perform a grayscale normalization to reduce the effect of illumination's differences. \n",
    "\n",
    "Moreover the CNN converg faster on [0..1] data than on [0..255].\n",
    "标准化，将灰度值 0-255 映射到0 - 1区间"
   ]
  },
  {
   "cell_type": "code",
   "execution_count": null,
   "metadata": {
    "_cell_guid": "cdc4340b-6e24-4e12-be99-ac806098ff17",
    "_execution_state": "idle",
    "_uuid": "b5d4f8fcf2a967e2c7d57daedf95aa8c5ab7f8cb"
   },
   "outputs": [],
   "source": [
    "# Normalize the data\n",
    "X_train = X_train / 255.0\n",
    "###### >>>填写<<< 标准化测试集合 #######\n",
    "test = test / 255.0"
   ]
  },
  {
   "cell_type": "markdown",
   "metadata": {
    "_cell_guid": "7413df94-bcb9-4f75-b174-c127d4445766",
    "_uuid": "a66741bf1ac597094f3a3166877008feef27c519"
   },
   "source": [
    "## 2.3 Reshape"
   ]
  },
  {
   "cell_type": "code",
   "execution_count": null,
   "metadata": {
    "_cell_guid": "34b6a5f7-8fd2-4387-8ef4-c9dc19584fed",
    "_execution_state": "idle",
    "_uuid": "f0a6ad80dab8e0f2c2e46165ccd9cd82dd162bc3"
   },
   "outputs": [],
   "source": [
    "# >>>>填写<<<<< 利用 reshape 函数， 将X_train变换成 (height = 28px, width = 28px , canal = 1)>>>>填写<<<<< ######\n",
    "X_train = X_train.values.reshape(-1,28,28,1)\n",
    "test = test.values.reshape(-1,28,28,1) \n",
    "0-255 "
   ]
  },
  {
   "cell_type": "markdown",
   "metadata": {
    "_cell_guid": "8decd1ce-7b7e-431d-8458-eaca18e0e1f7",
    "_uuid": "f4fb5553e188d9956f5d8b3a5d275ab00ea667ce"
   },
   "source": [
    "Train and test images (28px x 28px) has been stock into pandas.Dataframe as 1D vectors of 784 values. We reshape all data to 28x28x1 3D matrices. \n",
    "\n",
    "Keras requires an extra dimension in the end which correspond to channels. MNIST images are gray scaled so it use only one channel. For RGB images, there is 3 channels, we would have reshaped 784px vectors to 28x28x3 3D matrices. "
   ]
  },
  {
   "cell_type": "markdown",
   "metadata": {
    "_cell_guid": "bdb422e2-bdec-444f-97a5-283a1e54bf2c",
    "_uuid": "39b7a31e843bac6b705461bcce89da216b91799e"
   },
   "source": [
    "## 2.5 Label encoding"
   ]
  },
  {
   "cell_type": "code",
   "execution_count": null,
   "metadata": {
    "_cell_guid": "4b7f3e78-44dc-4561-b1f0-9429ee024cf4",
    "_execution_state": "idle",
    "_uuid": "cabefd1478d5c1bdfe57fd6a34395340916a854c"
   },
   "outputs": [],
   "source": [
    "# 利用0 1编码 将0-9数字标签编码成10维向量 (ex : 9 -> [0,0,0,0,0,0,0,0,0,1])\n",
    "##\n",
    "Y_train = to_categorical(Y_train, num_classes = 10)\n",
    "## one-hot encoding"
   ]
  },
  {
   "cell_type": "markdown",
   "metadata": {
    "_cell_guid": "ae068bd8-b12e-4768-8a7e-0fc865dd7562",
    "_uuid": "dcfb688587dfc6feafd27442a3505e35dc01b82d"
   },
   "source": [
    "Labels are 10 digits numbers from 0 to 9. We need to encode these lables to one hot vectors (ex : 2 -> [0,0,1,0,0,0,0,0,0,0])."
   ]
  },
  {
   "cell_type": "markdown",
   "metadata": {
    "_cell_guid": "32152fc3-a570-4d64-8a7d-6c689a4acd33",
    "_uuid": "d8abbbf31483b94e1b29d07c4c8253d1311648a7"
   },
   "source": [
    "## 2.6 Split training and valdiation set "
   ]
  },
  {
   "cell_type": "code",
   "execution_count": null,
   "metadata": {
    "_cell_guid": "3a698301-9759-4279-ae48-fd980f89ea53",
    "_execution_state": "idle",
    "_uuid": "6e51c925c6e0f1b936679c9649fef345c853555f"
   },
   "outputs": [],
   "source": [
    "# Set the random seed\n",
    "random_seed = 2"
   ]
  },
  {
   "cell_type": "code",
   "execution_count": null,
   "metadata": {
    "_cell_guid": "dcd25ebb-d845-4d32-9867-082e352b1396",
    "_execution_state": "idle",
    "_uuid": "b779ac76d8317647db92d5a88b4098d212d72884"
   },
   "outputs": [],
   "source": [
    "# 将训练集合按照9:1 分成训练集合 和验证集合 validation 10折交叉验证 10-fold validation  ####\n",
    "X_train, X_val, Y_train, Y_val = train_test_split(X_train, Y_train, test_size = 0.1, random_state=random_seed)"
   ]
  },
  {
   "cell_type": "markdown",
   "metadata": {
    "_cell_guid": "adbeacf0-0dc0-4675-b2df-9c9663750f32",
    "_uuid": "60eed15ec5bc0d354385301789ecb8538fc02267"
   },
   "source": [
    "We can get a better sense for one of these examples by visualising the image and looking at the label."
   ]
  },
  {
   "cell_type": "code",
   "execution_count": null,
   "metadata": {
    "_cell_guid": "5f76131b-4ba0-45f1-a98c-bd4e7d561793",
    "_execution_state": "idle",
    "_uuid": "e0dae8943d3d35f075dba3d7ba31bde1d4bf2ff4"
   },
   "outputs": [],
   "source": [
    "# Some examples\n",
    "g = plt.imshow(X_train[0][:,:,0])"
   ]
  },
  {
   "cell_type": "markdown",
   "metadata": {
    "_cell_guid": "d5265777-aeb3-449d-b171-d88cad74c0a4",
    "_uuid": "5fa18b37a9acd9e098bac1d12264b0dd4310fdd3"
   },
   "source": [
    "# 3. CNN\n",
    "## 3.1 Define the model"
   ]
  },
  {
   "cell_type": "markdown",
   "metadata": {
    "_cell_guid": "504fa00e-148c-4364-9b68-218b3aaedfdb",
    "_uuid": "7697570491420f957f6e4d3569d51410b5277250"
   },
   "source": []
  },
  {
   "cell_type": "code",
   "execution_count": 1,
   "metadata": {
    "_cell_guid": "1e0f3f88-2ad7-459e-8e02-aecc5f3511ae",
    "_execution_state": "idle",
    "_uuid": "f7991ef6871a26f9fa57acdcd460a69bab53e804"
   },
   "outputs": [
    {
     "name": "stderr",
     "output_type": "stream",
     "text": [
      "Using TensorFlow backend.\n"
     ]
    }
   ],
   "source": [
    "import tensorflow\n",
    "import keras\n",
    "from keras.models import Sequential\n",
    "from keras.layers import Dense, Dropout, Flatten, Conv2D, MaxPool2D\n",
    "from keras.layers.normalization import BatchNormalization\n",
    "from keras.preprocessing.image import ImageDataGenerator\n",
    "from keras.callbacks import ReduceLROnPlateau\n",
    "from sklearn.model_selection import train_test_split"
   ]
  },
  {
   "cell_type": "code",
   "execution_count": 2,
   "metadata": {
    "_cell_guid": "0e26b6a3-ef9d-4ae5-9d79-d5e4b073251a",
    "_uuid": "7065512cf892ba49f0c06e239e3a20ff13667ef2"
   },
   "outputs": [],
   "source": [
    "##### >>>>填写<<<< 我们的分配数量num_classes,提示 我们的任务是手写体0-9的识别 <<<<<<<<<####### \n",
    "batch_size = 64\n",
    "num_classes = 10\n",
    "epochs = 20\n",
    "### >>> 填写<<<<  填写我们的输入size 格式为(长，宽，通道数)  #######\n",
    "input_shape = (28,28,1)\n",
    "\n",
    "#构建CNN 模型 这里我们利用Sequential 序列累加 ######\n",
    "model = Sequential()\n",
    "## 第一个 卷积层 32个kernel kernel大小3*3 输出的激活函数relu kernel利用 He-正态分布 生成  ####\n",
    "model.add(Conv2D(32, kernel_size=(3, 3),activation='relu',kernel_initializer='he_normal',input_shape=input_shape))\n",
    "\n",
    "### >>> 填写<<<< 请自行构建第二个卷积层，此时kernel的初始尝试用全零初始/全1初始/正态初始\n",
    "model.add(Conv2D(32, kernel_size=(3, 3),activation='relu',kernel_initializer='he_normal'))\n",
    "### >>> 填写<<<< 构建一个最大池化层 \n",
    "model.add(MaxPool2D((2, 2),strides=2))\n",
    "\n",
    "model.add(Dropout(0.20))\n",
    "### >>> 填写<<<< 在下述卷积层内 构建一个padding, 在之后构建一个kernel size = 2 *2 的池化层 \n",
    "model.add(Conv2D(64, (3, 3), activation='relu',padding='same',kernel_initializer='he_normal'))\n",
    "model.add(MaxPool2D(pool_size=(2, 2)))\n",
    "\n",
    "#########################################################################################\n",
    "model.add(Dropout(0.25))\n",
    "\n",
    "\n",
    "model.add(Flatten())\n",
    "\n",
    "###  >>> 填写<<<< 构建一个全联接 其中包含128个神经元 并使用relu激活函数\n",
    "model.add(Dense(128, activation='relu'))\n",
    "#############################################\n",
    "\n",
    "\n",
    "model.add(BatchNormalization())\n",
    "model.add(Dropout(0.25))\n",
    "\n",
    "###  >>> 填写<<<<构建一个全联接，该全联接需要用特定的激活函数和适当的神经元个数 来实现我们的分类目标  提示：我们有多少个标签？什么激活适合最后的输出？\n",
    "model.add(Dense(num_classes, activation='softmax'))\n",
    "\n",
    "\n",
    "\n"
   ]
  },
  {
   "cell_type": "code",
   "execution_count": 5,
   "metadata": {
    "_cell_guid": "a4c55409-6a65-400a-b5e8-a1dc535429c0",
    "_execution_state": "idle",
    "_uuid": "420c704367b397b8255fefe9d882b35ac8929b95"
   },
   "outputs": [
    {
     "name": "stdout",
     "output_type": "stream",
     "text": [
      "Model: \"sequential_1\"\n",
      "_________________________________________________________________\n",
      "Layer (type)                 Output Shape              Param #   \n",
      "=================================================================\n",
      "conv2d_1 (Conv2D)            (None, 26, 26, 32)        320       \n",
      "_________________________________________________________________\n",
      "conv2d_2 (Conv2D)            (None, 24, 24, 32)        9248      \n",
      "_________________________________________________________________\n",
      "max_pooling2d_1 (MaxPooling2 (None, 12, 12, 32)        0         \n",
      "_________________________________________________________________\n",
      "dropout_1 (Dropout)          (None, 12, 12, 32)        0         \n",
      "_________________________________________________________________\n",
      "conv2d_3 (Conv2D)            (None, 12, 12, 64)        18496     \n",
      "_________________________________________________________________\n",
      "max_pooling2d_2 (MaxPooling2 (None, 6, 6, 64)          0         \n",
      "_________________________________________________________________\n",
      "dropout_2 (Dropout)          (None, 6, 6, 64)          0         \n",
      "_________________________________________________________________\n",
      "flatten_1 (Flatten)          (None, 2304)              0         \n",
      "_________________________________________________________________\n",
      "dense_1 (Dense)              (None, 128)               295040    \n",
      "_________________________________________________________________\n",
      "batch_normalization_1 (Batch (None, 128)               512       \n",
      "_________________________________________________________________\n",
      "dropout_3 (Dropout)          (None, 128)               0         \n",
      "_________________________________________________________________\n",
      "dense_2 (Dense)              (None, 10)                1290      \n",
      "=================================================================\n",
      "Total params: 324,906\n",
      "Trainable params: 324,650\n",
      "Non-trainable params: 256\n",
      "_________________________________________________________________\n"
     ]
    }
   ],
   "source": [
    "### 运行model.summary（）回答下列问题 第二天课上一起讨论####\n",
    "### 能否画出这个模型的概括图?\n",
    "### 这个模型有几个卷积层？\n",
    "### 这个模型最大的参数量是哪一层？\n",
    "### 第一层卷积层为什么有320个实际变量需要调节\n",
    "### \n",
    "model.summary()"
   ]
  },
  {
   "cell_type": "code",
   "execution_count": null,
   "metadata": {
    "_cell_guid": "0bd89b79-1a74-40da-af9a-7a76a8b96ff2",
    "_execution_state": "idle",
    "_uuid": "b4c0288622227a3cd05479aa765e324dbb852f34",
    "collapsed": true
   },
   "outputs": [],
   "source": []
  },
  {
   "cell_type": "markdown",
   "metadata": {
    "_cell_guid": "6bc49be3-11e5-48fb-b70f-601aec0f0c86",
    "_uuid": "f4d89b29d55b328e8c446880505c54e674eeec38"
   },
   "source": []
  },
  {
   "cell_type": "markdown",
   "metadata": {
    "_cell_guid": "35b826b6-c516-47d0-8469-f8d04a102118",
    "_uuid": "bb90d48f4426d1baeb0404f2431e04e3cade59df"
   },
   "source": []
  },
  {
   "cell_type": "code",
   "execution_count": null,
   "metadata": {
    "_cell_guid": "b5987a18-6bbe-42a2-9d31-333ebc4f7af1",
    "_execution_state": "idle",
    "_uuid": "c4a5b4e462ec5362c47eef4fcc7956fd4e203307",
    "collapsed": true
   },
   "outputs": [],
   "source": []
  },
  {
   "cell_type": "code",
   "execution_count": null,
   "metadata": {
    "_cell_guid": "970db455-b393-4b25-806d-92c6766c12c0",
    "_execution_state": "idle",
    "_uuid": "26b0647c46efdb6b1096cf7335a7bf2a3417543a",
    "collapsed": true
   },
   "outputs": [],
   "source": []
  },
  {
   "cell_type": "markdown",
   "metadata": {
    "_cell_guid": "241a0f4f-13f5-4b13-be1e-4e3e4a714c06",
    "_uuid": "f24df64b223e0177c94025b6767ab19b722c5386"
   },
   "source": []
  },
  {
   "cell_type": "markdown",
   "metadata": {
    "_cell_guid": "e2d41e30-0724-40fb-a901-750e514ba9f9",
    "_uuid": "9e498b91419439f0fa791e595f202d9a0d56ad6b"
   },
   "source": []
  },
  {
   "cell_type": "code",
   "execution_count": null,
   "metadata": {
    "_cell_guid": "ade93d2d-90c6-4401-af95-f7d65f8c0a20",
    "_execution_state": "idle",
    "_uuid": "d4e9e1ade3c04f9ca4d8cd44e799f9e09524d5a1",
    "collapsed": true
   },
   "outputs": [],
   "source": []
  },
  {
   "cell_type": "code",
   "execution_count": null,
   "metadata": {
    "_cell_guid": "b342befe-1a6f-44bf-8dab-28033a729122",
    "_execution_state": "idle",
    "_uuid": "21d6192c87d92d497c797656474bccd9cefc5647",
    "collapsed": true
   },
   "outputs": [],
   "source": []
  },
  {
   "cell_type": "markdown",
   "metadata": {
    "_cell_guid": "22f80b8a-d4f6-4a34-b33d-ff7334f45d94",
    "_uuid": "51f16d0a5b9d9373438474e7defa7348359d7c18"
   },
   "source": []
  },
  {
   "cell_type": "code",
   "execution_count": null,
   "metadata": {
    "_cell_guid": "b453af8d-9736-43e3-b486-7a1cd7dd8909",
    "_execution_state": "idle",
    "_uuid": "cf36b3d029f95b553be02d612e097a9769ee8252",
    "collapsed": true
   },
   "outputs": [],
   "source": []
  },
  {
   "cell_type": "markdown",
   "metadata": {
    "_cell_guid": "e758621d-b27b-40ff-a93f-bebd2e0e5243",
    "_uuid": "0a1834f2a9f2db15dcaba4a84004b9627d714469"
   },
   "source": []
  },
  {
   "cell_type": "code",
   "execution_count": null,
   "metadata": {
    "_cell_guid": "eb4b1b73-cbd4-40e8-9790-066fcef4c4c0",
    "_execution_state": "idle",
    "_uuid": "3a831860dd5bb65c8ead1ddcf4ae18ae20dd7f3e"
   },
   "outputs": [],
   "source": []
  },
  {
   "cell_type": "markdown",
   "metadata": {
    "_cell_guid": "69df90d7-f2fd-497d-a0b2-57c497a3e645",
    "_uuid": "ba77212f82b781b0e5a4e494897b18c31c5e30a3"
   },
   "source": []
  },
  {
   "cell_type": "markdown",
   "metadata": {
    "_cell_guid": "bacff684-79bb-4ede-83c1-ccb7cf92df77",
    "_uuid": "9f2920cbbfb6f1f566fac4afdd4030c75ee5bf66"
   },
   "source": []
  },
  {
   "cell_type": "markdown",
   "metadata": {
    "_cell_guid": "de1c65bd-4a88-4351-9f4b-562e72e7e0fd",
    "_uuid": "63698d7d51381b33892ce164b0f21930abb3e937"
   },
   "source": []
  },
  {
   "cell_type": "markdown",
   "metadata": {
    "_cell_guid": "5688faa0-b33b-4e92-b125-7fa0b37e7df3",
    "_uuid": "3306d29b732341663e50866140dc569360701a81"
   },
   "source": []
  },
  {
   "cell_type": "code",
   "execution_count": null,
   "metadata": {
    "_cell_guid": "11361e73-8250-4bf5-a353-b0f8ea83e659",
    "_execution_state": "idle",
    "_uuid": "16e161179bf1b51ba66c39b2cead883f1db3a9c7",
    "collapsed": true
   },
   "outputs": [],
   "source": []
  },
  {
   "cell_type": "markdown",
   "metadata": {
    "_cell_guid": "1b8a5cdc-9122-4e31-b9fa-0f6b57d33fc8",
    "_uuid": "ecb928433299b163ecc1f6c4e66d4ddcf38fe898"
   },
   "source": []
  },
  {
   "cell_type": "markdown",
   "metadata": {
    "_cell_guid": "ef54d686-6f79-4d96-a5a0-a64657bd742e",
    "_execution_state": "idle",
    "_uuid": "afd59cae1115188b77abd3471e5e89790cef80a0"
   },
   "source": []
  },
  {
   "cell_type": "code",
   "execution_count": null,
   "metadata": {
    "_cell_guid": "7b0f31b8-c18b-4529-b0d8-eb4c31e30bbf",
    "_execution_state": "idle",
    "_uuid": "e7a3d6449b499a29db224e42e950f21ca1ec4e36",
    "collapsed": true
   },
   "outputs": [],
   "source": []
  },
  {
   "cell_type": "markdown",
   "metadata": {
    "_cell_guid": "d21c4caf-e699-4647-8ef4-e60e868607ae",
    "_execution_state": "idle",
    "_uuid": "afc408bd5545a6a2b2d4e04989890546263cb642"
   },
   "source": []
  },
  {
   "cell_type": "code",
   "execution_count": null,
   "metadata": {
    "_cell_guid": "05ff3b9f-c3bb-4cec-a8c2-2c128e8f15b3",
    "_execution_state": "idle",
    "_uuid": "7f17e7bf0a54a01a52fef2d554780f6bc6580dc6",
    "collapsed": true
   },
   "outputs": [],
   "source": []
  },
  {
   "cell_type": "code",
   "execution_count": null,
   "metadata": {
    "_cell_guid": "b5f1f39f-13b8-439a-8913-0f120e3d47a9",
    "_execution_state": "idle",
    "_uuid": "369dfaab09240f3f12bcff91953ffd315ab84985",
    "collapsed": true
   },
   "outputs": [],
   "source": []
  },
  {
   "cell_type": "markdown",
   "metadata": {
    "_cell_guid": "b1c2790e-4313-4b47-937a-b4eaaae6d845",
    "_uuid": "0ec3bcf47cd49afea61aa9ed60ced64de8fc2d3d"
   },
   "source": []
  }
 ],
 "metadata": {
  "kernelspec": {
   "display_name": "Python 3",
   "language": "python",
   "name": "python3"
  },
  "language_info": {
   "codemirror_mode": {
    "name": "ipython",
    "version": 3
   },
   "file_extension": ".py",
   "mimetype": "text/x-python",
   "name": "python",
   "nbconvert_exporter": "python",
   "pygments_lexer": "ipython3",
   "version": "3.7.3"
  }
 },
 "nbformat": 4,
 "nbformat_minor": 2
}
