{
 "cells": [
  {
   "cell_type": "code",
   "execution_count": 1,
   "metadata": {},
   "outputs": [],
   "source": [
    "from sklearn import feature_extraction \n",
    "from sklearn.feature_extraction.text import TfidfTransformer \n",
    "from sklearn.feature_extraction.text import CountVectorizer \n",
    "import numpy as np\n",
    "import pkuseg \n",
    "def is_chinese(uchar): \n",
    "    if uchar >= u'\\u4e00' and uchar <= u'\\u9fa5': \n",
    "        return True \n",
    "    else:\n",
    "        return False \n",
    "def format_str(content): \n",
    "    content_str = '' \n",
    "    for i in content: \n",
    "        if is_chinese(i): \n",
    "            content_str = content_str + ｉ \n",
    "    return content_str\n",
    "seg = pkuseg.pkuseg() "
   ]
  },
  {
   "cell_type": "code",
   "execution_count": 2,
   "metadata": {},
   "outputs": [],
   "source": [
    "filenames = [\"a.txt\",\"b.txt\",\"c.txt\"] \n",
    "if __name__ == \"__main__\": \n",
    "    corpus = []\n",
    "\n",
    "    for name in filenames: \n",
    "        with open(name,'r') as f: \n",
    "            str = f.read() \n",
    "            #print(str)\n",
    "            str = format_str(str) \n",
    "            str = seg.cut(str) \n",
    "            #print(str)\n",
    "            corpus.append(\" \".join(str))\n",
    "            \n",
    "    vectorizer=CountVectorizer() #该类会将文本中的词语转换为词频矩阵，矩阵元素a[i][j] 表示j词在i 类文本下的词频 \n",
    "    transformer=TfidfTransformer() #该类会统计每个词语的tf- idf权值 \n",
    "    tfidf=transformer.fit_transform(vectorizer.fit_transform( corpus)) #第一个fit_transform是计算tf-idf，第二个fit_transform是将 文本转为词频矩阵 \n",
    "    word=vectorizer.get_feature_names() #获取词袋模型中的所有词语 \n",
    "    weight=tfidf.toarray() #将tf-idf矩阵抽取出来，元素a[i][j]表示j词在i类文本中的tf-idf 权重"
   ]
  },
  {
   "cell_type": "code",
   "execution_count": 3,
   "metadata": {},
   "outputs": [
    {
     "name": "stdout",
     "output_type": "stream",
     "text": [
      "a.txt : \n",
      "1 书店 0.8017249310478946\n",
      "2 实体 0.30835574271072863\n",
      "3 扶持 0.19186579546445337\n",
      "4 北京市 0.18501344562643718\n",
      "5 特色 0.1576040462743724\n",
      "b.txt : \n",
      "1 生猪 0.46733818209284006\n",
      "2 猪肉 0.2516436365115292\n",
      "3 生产 0.21569454558131076\n",
      "4 保障 0.14379636372087384\n",
      "5 运输 0.14379636372087384\n",
      "c.txt : \n",
      "1 韩国 0.4802085334409461\n",
      "2 美国 0.32013902229396407\n",
      "3 防卫费 0.2667825185783034\n",
      "4 报道 0.2667825185783034\n",
      "5 美方 0.2134260148626427\n"
     ]
    }
   ],
   "source": [
    "    for (name, w) in zip(filenames,weight): \n",
    "        print(name,\": \") \n",
    "        loc = np.argsort(-w) \n",
    "        for i in range(5): \n",
    "            print(i+1,word[loc[i]], w[loc[i]])"
   ]
  },
  {
   "cell_type": "code",
   "execution_count": null,
   "metadata": {},
   "outputs": [],
   "source": []
  },
  {
   "cell_type": "code",
   "execution_count": null,
   "metadata": {},
   "outputs": [],
   "source": []
  }
 ],
 "metadata": {
  "kernelspec": {
   "display_name": "Python 3",
   "language": "python",
   "name": "python3"
  },
  "language_info": {
   "codemirror_mode": {
    "name": "ipython",
    "version": 3
   },
   "file_extension": ".py",
   "mimetype": "text/x-python",
   "name": "python",
   "nbconvert_exporter": "python",
   "pygments_lexer": "ipython3",
   "version": "3.7.3"
  }
 },
 "nbformat": 4,
 "nbformat_minor": 2
}
