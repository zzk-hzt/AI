{
 "cells": [
  {
   "cell_type": "code",
   "execution_count": 5,
   "metadata": {},
   "outputs": [
    {
     "name": "stdout",
     "output_type": "stream",
     "text": [
      "{'苹果': {'⾹蕉': 0.5773502691896258, '⻄⽠': 0.6666666666666666, '菠萝': 0.4082482904638631}, '⾹蕉': {'苹果': 0.5773502691896258, '⻄⽠': 0.5773502691896258, '菠萝': 0.35355339059327373, '葡萄': 0.35355339059327373}, '⻄⽠': {'苹果': 0.6666666666666666, '⾹蕉': 0.5773502691896258}, '菠萝': {'苹果': 0.4082482904638631, '⾹蕉': 0.35355339059327373, '葡萄': 0.5}, '葡萄': {'⾹蕉': 0.35355339059327373, '菠萝': 0.5}}\n"
     ]
    }
   ],
   "source": [
    "import math\n",
    "def ItemSimilarity(train):\n",
    "    C = dict() ##同时被购买的次数\n",
    "    N = dict() ##购买⽤户数\n",
    "    for u,items in train.items():\n",
    "        for i in items.keys():\n",
    "            if i not in N.keys():\n",
    "                N[i] = 0\n",
    "            N[i] += 1\n",
    "            for j in items.keys():\n",
    "                if i == j:\n",
    "                    continue\n",
    "                if i not in C.keys():\n",
    "                    C[i] = dict()\n",
    "                if j not in C[i].keys():\n",
    "                    C[i][j] = 0\n",
    "                 ##当⽤户同时购买了i和j，则加1\n",
    "                C[i][j] += 1\n",
    "    W = dict() ##相似分数\n",
    "    for i, related_items in C.items():\n",
    "        if i not in W.keys():\n",
    "            W[i] = dict()\n",
    "        for j,cij in related_items.items():\n",
    "            W[i][j] = cij / math.sqrt(N[i]*N[j])\n",
    "    return W\n",
    "if __name__ == '__main__':\n",
    "    Train_Data = {\n",
    "        'A':{'苹果':1,'⾹蕉':1,'⻄⽠':1},\n",
    "        'B':{'苹果':1,'⻄⽠':1},\n",
    "        'C':{'苹果':1,'⾹蕉':1,'菠萝':1},\n",
    "        'D':{'⾹蕉':1,'葡萄':1},\n",
    "        'E':{'葡萄':1,'菠萝':1},\n",
    "        'F':{'⾹蕉':1,'⻄⽠':1}\n",
    "        }\n",
    "    W = ItemSimilarity(Train_Data)\n",
    "    print(W)"
   ]
  },
  {
   "cell_type": "code",
   "execution_count": 2,
   "metadata": {},
   "outputs": [
    {
     "name": "stdout",
     "output_type": "stream",
     "text": [
      "{'苹果': {'⾹蕉': 0.5773502691896258, '⻄⽠': 0.6666666666666667, '菠萝': 0.40824829046386296}, '⾹蕉': {'苹果': 0.5773502691896258, '⻄⽠': 0.5773502691896258, '菠萝': 0.35355339059327373, '葡萄': 0.35355339059327373}, '⻄⽠': {'苹果': 0.6666666666666667, '⾹蕉': 0.5773502691896258}, '菠萝': {'苹果': 0.40824829046386296, '⾹蕉': 0.35355339059327373, '葡萄': 0.4999999999999999}, '葡萄': {'⾹蕉': 0.35355339059327373, '菠萝': 0.4999999999999999}}\n"
     ]
    }
   ],
   "source": [
    "import math\n",
    "def ItemSimilarity_cos(train): \n",
    "    C = dict() ##同时购买的次数\n",
    "    N = dict() ##购买⽤户数\n",
    "    for u,items in train.items():\n",
    "        for i in items.keys():\n",
    "            if i not in N.keys():\n",
    "                N[i]=0\n",
    "            N[i] += items[i]* items[i]\n",
    "            for j in items.keys():\n",
    "                if i == j:\n",
    "                    continue\n",
    "                if i not in C.keys():\n",
    "                    C[i]=dict()\n",
    "                if j not in C[i].keys():\n",
    "                    C[i][j]=0\n",
    "                C[i][j] +=items[i]*items[j]\n",
    "    W = dict() ##相似分数\n",
    "    for i, related_items in C.items():\n",
    "        if i not in W.keys():\n",
    "            W[i] = dict()\n",
    "        for j,cij in related_items.items():\n",
    "            W[i][j] = cij / (math.sqrt(N[i])*math.sqrt(N[j]))\n",
    "    return W\n",
    "if __name__ == '__main__':\n",
    "    Train_Data = {\n",
    "        'A':{'苹果':2,'⾹蕉':2,'⻄⽠':2},\n",
    "        'B':{'苹果':2,'⻄⽠':2},\n",
    "        'C':{'苹果':2,'⾹蕉':2,'菠萝':2},\n",
    "        'D':{'⾹蕉':2,'葡萄':2},\n",
    "        'E':{'葡萄':2,'菠萝':2},\n",
    "        'F':{'⾹蕉':2,'⻄⽠':2}\n",
    "        }\n",
    "    W = ItemSimilarity_cos(Train_Data)\n",
    "    print(W)"
   ]
  },
  {
   "cell_type": "code",
   "execution_count": 3,
   "metadata": {},
   "outputs": [
    {
     "name": "stdout",
     "output_type": "stream",
     "text": [
      "{'苹果': {'⾹蕉': 0.5450691787846755, '⻄⽠': 0.6666666666666666, '菠萝': 0.44273374664777815}, '⾹蕉': {'苹果': 0.6115431697616012, '⻄⽠': 0.6115431697616012, '菠萝': 0.40612619817811785, '葡萄': 0.40612619817811785}, '⻄⽠': {'苹果': 0.6666666666666666, '⾹蕉': 0.5450691787846755}, '菠萝': {'苹果': 0.3764489784856185, '⾹蕉': 0.3077861033362291, '葡萄': 0.5}, '葡萄': {'⾹蕉': 0.3077861033362291, '菠萝': 0.5}}\n"
     ]
    }
   ],
   "source": [
    "import math\n",
    "def ItemSimilarity_alpha(train,alpha=0.3):\n",
    "    C = dict() ##同时被购买的次数\n",
    "    N = dict() ##购买⽤户数\n",
    "    for u,items in train.items():\n",
    "        for i in items.keys():\n",
    "            if i not in N.keys():\n",
    "                N[i] = 0\n",
    "            N[i] += 1\n",
    "            for j in items.keys():\n",
    "                if i == j:\n",
    "                    continue\n",
    "                if i not in C.keys():\n",
    "                    C[i] = dict()\n",
    "                if j not in C[i].keys():\n",
    "                    C[i][j] = 0\n",
    "                 ##当⽤户同时购买了i和j，则加1\n",
    "                C[i][j] += 1\n",
    "    W = dict() ##相似分数\n",
    "    for i, related_items in C.items():\n",
    "        if i not in W.keys():\n",
    "            W[i] = dict()\n",
    "        for j,cij in related_items.items():\n",
    "            W[i][j] = cij / (math.pow(N[i],alpha)*math.pow(N[j],1-alpha))\n",
    "    return W\n",
    "if __name__ == '__main__':\n",
    "    Train_Data = {\n",
    "        'A':{'苹果':1,'⾹蕉':1,'⻄⽠':1},\n",
    "        'B':{'苹果':1,'⻄⽠':1},\n",
    "        'C':{'苹果':1,'⾹蕉':1,'菠萝':1},\n",
    "        'D':{'⾹蕉':1,'葡萄':1},\n",
    "        'E':{'葡萄':1,'菠萝':1},\n",
    "        'F':{'⾹蕉':1,'⻄⽠':1}\n",
    "        }\n",
    "    W = ItemSimilarity_alpha(Train_Data)\n",
    "    print(W)"
   ]
  },
  {
   "cell_type": "code",
   "execution_count": 5,
   "metadata": {},
   "outputs": [
    {
     "name": "stdout",
     "output_type": "stream",
     "text": [
      "{'⻄⽠': 1.278209836428268, '⾹蕉': 0, '菠萝': 0, '苹果': 0, '葡萄': 0.5}\n"
     ]
    }
   ],
   "source": [
    "import math\n",
    "def ItemSimilarity_alpha(train,alpha=0.3):\n",
    "    C = dict() ##同时被购买的次数\n",
    "    N = dict() ##购买⽤户数\n",
    "    for u,items in train.items():\n",
    "        for i in items.keys():\n",
    "            if i not in N.keys():\n",
    "                N[i] = 0\n",
    "            N[i] += 1\n",
    "            for j in items.keys():\n",
    "                if i == j:\n",
    "                    continue\n",
    "                if i not in C.keys():\n",
    "                    C[i] = dict()\n",
    "                if j not in C[i].keys():\n",
    "                    C[i][j] = 0\n",
    "                 ##当⽤户同时购买了i和j，则加1\n",
    "                C[i][j] += 1\n",
    "    W = dict() ##相似分数\n",
    "    for i, related_items in C.items():\n",
    "        if i not in W.keys():\n",
    "            W[i] = dict()\n",
    "        for j,cij in related_items.items():\n",
    "            W[i][j] = cij / (math.pow(N[i],alpha)*math.pow(N[j],1-alpha))\n",
    "    return W\n",
    "def Recommend(train,user_id,W,K):\n",
    "    rank = dict()\n",
    "    ru = train[user_id]\n",
    "    for i,pi in ru.items():\n",
    "        tmp=W[i]\n",
    "        for j,wj in sorted(tmp.items(),key=lambda d:d[1],reverse=True)[0:K]:\n",
    "            if j not in rank.keys():\n",
    "                rank[j]=0\n",
    "            if j in ru:\n",
    "                continue\n",
    "            rank[j] += pi*wj\n",
    "    return rank\n",
    "if __name__ == '__main__':\n",
    "    Train_Data = {\n",
    "        'A':{'苹果':1,'⾹蕉':1,'⻄⽠':1},\n",
    "        'B':{'苹果':1,'⻄⽠':1},\n",
    "        'C':{'苹果':1,'⾹蕉':1,'菠萝':1},\n",
    "        'D':{'⾹蕉':1,'葡萄':1},\n",
    "        'E':{'葡萄':1,'菠萝':1},\n",
    "        'F':{'⾹蕉':1,'⻄⽠':1}\n",
    "        }\n",
    "    W = ItemSimilarity_alpha(Train_Data)\n",
    "    print(Recommend(Train_Data,'C',W,3))"
   ]
  },
  {
   "cell_type": "code",
   "execution_count": null,
   "metadata": {},
   "outputs": [],
   "source": []
  }
 ],
 "metadata": {
  "kernelspec": {
   "display_name": "Python 3",
   "language": "python",
   "name": "python3"
  },
  "language_info": {
   "codemirror_mode": {
    "name": "ipython",
    "version": 3
   },
   "file_extension": ".py",
   "mimetype": "text/x-python",
   "name": "python",
   "nbconvert_exporter": "python",
   "pygments_lexer": "ipython3",
   "version": "3.7.3"
  }
 },
 "nbformat": 4,
 "nbformat_minor": 2
}
