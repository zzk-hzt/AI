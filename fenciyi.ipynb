{
 "cells": [
  {
   "cell_type": "code",
   "execution_count": 27,
   "metadata": {},
   "outputs": [
    {
     "name": "stdout",
     "output_type": "stream",
     "text": [
      "['北京', '大学', '语言', '计算', '与', '机器', '学习', '研究组', '研制', '推出', '了', '一', '套', '全新', '的', '中文', '分词', '工具包', '。', '它', '简单', '易用', '，', '支持', '多', '领域', '分词', '，', '在', '不同', '领域', '的', '数据', '上都', '大幅', '提高', '了', '分词', '的', '准确率', '。']\n"
     ]
    }
   ],
   "source": [
    "import pkuseg \n",
    "def is_chinese(uchar): \n",
    "    if uchar >= u'\\u4e00' and uchar <= u'\\u9fa5': \n",
    "        return True \n",
    "    else:\n",
    "        return False \n",
    "def format_str(content): \n",
    "    content_str = '' \n",
    "    for i in content: \n",
    "        if is_chinese(i): \n",
    "            content_str = content_str + ｉ \n",
    "            return content_str\n",
    "seg = pkuseg.pkuseg() \n",
    "if __name__ == \"__main__\": \n",
    "    print(seg.cut(\"北京大学语言计算与机器学习研究组研制推出了一套 全新的中文分词工具包。它简单易用，支持多领域分词，在不同领域的数据上都 大幅提高了分词的准确率。\"))"
   ]
  },
  {
   "cell_type": "code",
   "execution_count": null,
   "metadata": {},
   "outputs": [],
   "source": []
  }
 ],
 "metadata": {
  "kernelspec": {
   "display_name": "Python 3",
   "language": "python",
   "name": "python3"
  },
  "language_info": {
   "codemirror_mode": {
    "name": "ipython",
    "version": 3
   },
   "file_extension": ".py",
   "mimetype": "text/x-python",
   "name": "python",
   "nbconvert_exporter": "python",
   "pygments_lexer": "ipython3",
   "version": "3.7.3"
  }
 },
 "nbformat": 4,
 "nbformat_minor": 2
}
